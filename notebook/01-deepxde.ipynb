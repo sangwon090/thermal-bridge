{
 "cells": [
  {
   "cell_type": "code",
   "execution_count": null,
   "id": "2d21eab4",
   "metadata": {},
   "outputs": [
    {
     "name": "stderr",
     "output_type": "stream",
     "text": [
      "Using backend: pytorch\n",
      "Other supported backends: tensorflow.compat.v1, tensorflow, jax, paddle.\n",
      "paddle supports more examples now and is recommended.\n"
     ]
    }
   ],
   "source": [
    "import deepxde as dde\n",
    "import numpy as np\n",
    "import matplotlib.pyplot as plt"
   ]
  },
  {
   "cell_type": "code",
   "execution_count": 2,
   "id": "955c7ba3",
   "metadata": {},
   "outputs": [
    {
     "name": "stdout",
     "output_type": "stream",
     "text": [
      "Warning: 4000 points required, but 4032 points sampled.\n",
      "Warning: 400 points required, but 420 points sampled.\n",
      "Warning: 32 points required, but 36 points sampled.\n",
      "Warning: 1000 points required, but 1152 points sampled.\n",
      "Compiling model...\n",
      "'compile' took 2.596793 s\n",
      "\n",
      "Warning: epochs is deprecated and will be removed in a future version. Use iterations instead.\n",
      "Training model...\n",
      "\n",
      "Step      Train loss                        Test loss                         Test metric\n",
      "0         [6.16e-04, 8.98e-02, 5.01e-01]    [5.59e-04, 8.98e-02, 5.01e-01]    []  \n"
     ]
    },
    {
     "name": "stderr",
     "output_type": "stream",
     "text": [
      "/home/sangwon/.miniconda3/envs/ml/lib/python3.13/site-packages/torch/autograd/graph.py:824: UserWarning: Attempting to run cuBLAS, but there was no current CUDA context! Attempting to set the primary context... (Triggered internally at /pytorch/aten/src/ATen/cuda/CublasHandlePool.cpp:181.)\n",
      "  return Variable._execution_engine.run_backward(  # Calls into the C++ engine to run the backward pass\n"
     ]
    },
    {
     "name": "stdout",
     "output_type": "stream",
     "text": [
      "1000      [3.16e-04, 6.59e-04, 5.72e-04]    [1.84e-04, 6.59e-04, 5.72e-04]    []  \n",
      "2000      [1.25e-04, 2.51e-04, 1.92e-04]    [5.40e-05, 2.51e-04, 1.92e-04]    []  \n",
      "3000      [9.36e-05, 1.06e-04, 6.45e-05]    [4.23e-05, 1.06e-04, 6.45e-05]    []  \n",
      "4000      [7.36e-05, 5.58e-05, 3.11e-05]    [3.70e-05, 5.58e-05, 3.11e-05]    []  \n",
      "5000      [5.42e-05, 3.25e-05, 1.83e-05]    [2.82e-05, 3.25e-05, 1.83e-05]    []  \n",
      "\n",
      "Best model at step 5000:\n",
      "  train loss: 1.05e-04\n",
      "  test loss: 7.90e-05\n",
      "  test metric: []\n",
      "\n",
      "'train' took 62.673264 s\n",
      "\n",
      "Compiling model...\n",
      "'compile' took 0.000984 s\n",
      "\n",
      "Training model...\n",
      "\n",
      "Step      Train loss                        Test loss                         Test metric\n",
      "5000      [5.42e-05, 3.25e-05, 1.83e-05]    [2.82e-05, 3.25e-05, 1.83e-05]    []  \n",
      "5993      [1.50e-07, 4.58e-08, 4.70e-08]    [7.61e-08, 4.58e-08, 4.70e-08]    []  \n",
      "\n",
      "Best model at step 5993:\n",
      "  train loss: 2.43e-07\n",
      "  test loss: 1.69e-07\n",
      "  test metric: []\n",
      "\n",
      "'train' took 60.160849 s\n",
      "\n",
      "Relative L2 error: 0.0002724072\n"
     ]
    }
   ],
   "source": [
    "# Thermal diffusivity\n",
    "alpha = 0.01\n",
    "\n",
    "# Analytic solution for testing:\n",
    "# u(x, y, t) = sin(pi x) * sin(pi y) * exp(-2 alpha pi^2 t)\n",
    "def exact_solution(X):\n",
    "    x = X[:, 0:1]\n",
    "    y = X[:, 1:2]\n",
    "    t = X[:, 2:3]\n",
    "    return np.sin(np.pi * x) * np.sin(np.pi * y) * np.exp(-2 * alpha * np.pi**2 * t)\n",
    "\n",
    "# PDE definition: u_t = alpha (u_xx + u_yy)\n",
    "def pde(x, u):\n",
    "    u_t  = dde.grad.jacobian(u, x, i=0, j=2)  # ∂u/∂t\n",
    "    u_xx = dde.grad.hessian(u, x, component=0, i=0, j=0)  # ∂²u/∂x²\n",
    "    u_yy = dde.grad.hessian(u, x, component=0, i=1, j=1)  # ∂²u/∂y²\n",
    "    return u_t - alpha * (u_xx + u_yy)\n",
    "\n",
    "# Boundary condition: u = 0 for all t > 0 on domain boundary\n",
    "def boundary_func(x, on_boundary):\n",
    "    x = np.atleast_2d(x)\n",
    "    return on_boundary and np.all(np.squeeze(x[:, 2]) > 1e-8)\n",
    "\n",
    "# Initial condition: u(x,y,0) = sin(pi x) sin(pi y)\n",
    "def init_cond(x):\n",
    "    return np.sin(np.pi * x[:, 0:1]) * np.sin(np.pi * x[:, 1:2])\n",
    "\n",
    "def on_initial(x, _):\n",
    "    x = np.atleast_2d(np.array(x))\n",
    "    return np.isclose(x[:, 2], 0).squeeze()\n",
    "\n",
    "# Geometry and time domain\n",
    "spatial_domain = dde.geometry.Rectangle([0, 0], [1, 1])\n",
    "time_domain = dde.geometry.TimeDomain(0, 1)\n",
    "geomtime = dde.geometry.GeometryXTime(spatial_domain, time_domain)\n",
    "\n",
    "# BC and IC\n",
    "boundary_cond = dde.icbc.DirichletBC(geomtime, lambda x: 0, boundary_func)\n",
    "initial_cond = dde.icbc.IC(geomtime, init_cond, on_initial)\n",
    "\n",
    "# Dataset for PINN\n",
    "data = dde.data.TimePDE(\n",
    "    geomtime,\n",
    "    pde,\n",
    "    [boundary_cond, initial_cond],\n",
    "    num_domain=4000,\n",
    "    num_boundary=400,\n",
    "    num_initial=400,\n",
    "    train_distribution=\"uniform\",\n",
    "    solution=exact_solution,\n",
    "    num_test=1000,\n",
    ")\n",
    "\n",
    "# Neural net\n",
    "net = dde.nn.FNN([3] + [50] * 3 + [1], \"tanh\", \"Glorot normal\")\n",
    "\n",
    "model = dde.Model(data, net)\n",
    "\n",
    "# Training\n",
    "model.compile(\"adam\", lr=1e-3)\n",
    "losshistory, train_state = model.train(epochs=5000)\n",
    "\n",
    "model.compile(\"L-BFGS\")\n",
    "model.train()\n",
    "\n",
    "# Prediction and error evaluation\n",
    "X_test = geomtime.random_points(10000)\n",
    "u_pred = model.predict(X_test)\n",
    "u_true = exact_solution(X_test)\n",
    "\n",
    "error_rel = np.linalg.norm(u_true - u_pred) / np.linalg.norm(u_true)\n",
    "print(\"Relative L2 error:\", error_rel)"
   ]
  },
  {
   "cell_type": "code",
   "execution_count": 3,
   "id": "0cb40f3e",
   "metadata": {},
   "outputs": [
    {
     "data": {
      "image/png": "[encoded data removed]",
      "text/plain": [
       "<Figure size 1000x400 with 4 Axes>"
      ]
     },
     "metadata": {},
     "output_type": "display_data"
    },
    {
     "data": {
      "text/plain": [
       "'heat2d_model-5993.pt'"
      ]
     },
     "execution_count": 3,
     "metadata": {},
     "output_type": "execute_result"
    }
   ],
   "source": [
    "# Plot at final time t=1\n",
    "N_plot = 50\n",
    "x = np.linspace(0, 1, N_plot)\n",
    "y = np.linspace(0, 1, N_plot)\n",
    "Xg, Yg = np.meshgrid(x, y)\n",
    "Tg = np.ones_like(Xg) * 1.0\n",
    "XYT = np.stack([Xg.ravel(), Yg.ravel(), Tg.ravel()], axis=1)\n",
    "\n",
    "u_pred_plot = model.predict(XYT).reshape(N_plot, N_plot)\n",
    "u_true_plot = exact_solution(XYT).reshape(N_plot, N_plot)\n",
    "\n",
    "fig, axs = plt.subplots(1, 2, figsize=(10, 4))\n",
    "pcm1 = axs[0].pcolormesh(Xg, Yg, u_pred_plot, shading=\"auto\", cmap=\"jet\")\n",
    "axs[0].set_title(\"Predicted u(x,y,t=1)\")\n",
    "fig.colorbar(pcm1, ax=axs[0])\n",
    "\n",
    "pcm2 = axs[1].pcolormesh(Xg, Yg, u_true_plot, shading=\"auto\", cmap=\"jet\")\n",
    "axs[1].set_title(\"Exact u(x,y,t=1)\")\n",
    "fig.colorbar(pcm2, ax=axs[1])\n",
    "\n",
    "plt.tight_layout()\n",
    "plt.show()\n",
    "\n",
    "# Save model\n",
    "model.save(\"heat2d_model\")"
   ]
  },
  {
   "cell_type": "markdown",
   "id": "0365e23c",
   "metadata": {},
   "source": []
  }
 ],
 "metadata": {
  "kernelspec": {
   "display_name": "ml",
   "language": "python",
   "name": "python3"
  },
  "language_info": {
   "codemirror_mode": {
    "name": "ipython",
    "version": 3
   },
   "file_extension": ".py",
   "mimetype": "text/x-python",
   "name": "python",
   "nbconvert_exporter": "python",
   "pygments_lexer": "ipython3",
   "version": "3.13.5"
  }
 },
 "nbformat": 4,
 "nbformat_minor": 5
}
