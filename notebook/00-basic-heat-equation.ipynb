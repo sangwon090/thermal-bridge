{
 "cells": [
  {
   "cell_type": "code",
   "execution_count": 1,
   "id": "f9809b0f",
   "metadata": {},
   "outputs": [],
   "source": [
    "import numpy as np\n",
    "import matplotlib.pyplot as plt\n",
    "\n",
    "from matplotlib.animation import FuncAnimation\n",
    "from IPython.display import HTML"
   ]
  },
  {
   "cell_type": "code",
   "execution_count": 2,
   "id": "ab72fa8d",
   "metadata": {},
   "outputs": [],
   "source": [
    "# configuration\n",
    "length = 50\n",
    "max_iter = 1000\n",
    "\n",
    "# variables\n",
    "alpha = 100.0\n",
    "delta_x = 1\n",
    "delta_t = (delta_x ** 2) / (alpha * 4)\n",
    "gamma = (alpha * delta_t) / (delta_x ** 2)\n",
    "\n",
    "# initial condition\n",
    "u_init = 0.0\n",
    "u_top = 100.0\n",
    "u_left = 0.0\n",
    "u_bottom = 0.0\n",
    "u_right = 0.0\n",
    "u = np.empty((max_iter, length, length))\n",
    "u.fill(u_init)\n",
    "\n",
    "# boundary condition\n",
    "u[:, (length-1):, :] = u_top\n",
    "u[:, :, :1] = u_left\n",
    "u[:, :1, 1:] = u_bottom\n",
    "u[:, :, (length-1):] = u_right"
   ]
  },
  {
   "cell_type": "code",
   "execution_count": 3,
   "id": "c68ca93e",
   "metadata": {},
   "outputs": [],
   "source": [
    "def calc(u):\n",
    "    for k in range(0, max_iter-1, 1):\n",
    "        for i in range(1, length-1, delta_x):\n",
    "            for j in range(1, length-1, delta_x):\n",
    "                u[k + 1, i, j] = gamma * (u[k][i+1][j] + u[k][i-1][j] + u[k][i][j+1] + u[k][i][j-1] - 4*u[k][i][j]) + u[k][i][j]\n",
    "    \n",
    "    return u\n",
    "\n",
    "u = calc(u)"
   ]
  },
  {
   "cell_type": "code",
   "execution_count": null,
   "id": "7067db74",
   "metadata": {},
   "outputs": [
    {
     "name": "stderr",
     "output_type": "stream",
     "text": [
      "Animation size has reached 20979231 bytes, exceeding the limit of 20971520.0. If you're sure you want a larger animation embedded, set the animation.embed_limit rc parameter to a larger value (in MB). This and further frames will be dropped.\n"
     ]
    }
   ],
   "source": [
    "def plot_heatmap(u_k, k):\n",
    "    plt.clf()\n",
    "    plt.title(f'temperature @ t={k*delta_t:.3f}')\n",
    "    plt.xlabel('x')\n",
    "    plt.ylabel('y')\n",
    "\n",
    "    plt.pcolormesh(u_k, cmap=plt.cm.jet, vmin=0, vmax=100)\n",
    "    plt.colorbar()\n",
    "\n",
    "    return plt\n",
    "\n",
    "def animate(k):\n",
    "    plot_heatmap(u[k], k)\n",
    "\n",
    "ani = FuncAnimation(plt.figure(), animate, interval=1, frames=max_iter, repeat=False)\n",
    "HTML(ani.to_jshtml())"
   ]
  },
  {
   "cell_type": "markdown",
   "id": "f771460f",
   "metadata": {},
   "source": [
    "# References\n",
    "- https://levelup.gitconnected.com/solving-2d-heat-equation-numerically-using-python-3334004aa01a"
   ]
  }
 ],
 "metadata": {
  "kernelspec": {
   "display_name": "base",
   "language": "python",
   "name": "python3"
  },
  "language_info": {
   "codemirror_mode": {
    "name": "ipython",
    "version": 3
   },
   "file_extension": ".py",
   "mimetype": "text/x-python",
   "name": "python",
   "nbconvert_exporter": "python",
   "pygments_lexer": "ipython3",
   "version": "3.13.2"
  }
 },
 "nbformat": 4,
 "nbformat_minor": 5
}
